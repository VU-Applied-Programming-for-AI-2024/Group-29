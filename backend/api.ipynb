{
 "cells": [
  {
   "cell_type": "code",
   "execution_count": null,
   "metadata": {},
   "outputs": [],
   "source": [
    "\"header\" : [\n",
    "        'X-RapidAPI-Key: XXXXXXXXXXXXXXXXXXXXXXXXX'\n",
    "    ]"
   ]
  }
 ],
 "metadata": {
  "language_info": {
   "name": "python"
  }
 },
 "nbformat": 4,
 "nbformat_minor": 2
}
