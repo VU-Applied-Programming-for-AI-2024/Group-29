{
 "cells": [
  {
   "cell_type": "code",
   "execution_count": 32,
   "metadata": {},
   "outputs": [
    {
     "name": "stdout",
     "output_type": "stream",
     "text": [
      "{\"api\":{\"results\":3,\"fixtures\":[{\"fixture_id\":1145515,\"league_id\":5858,\"league\":{\"name\":\"Euro Championship\",\"country\":\"World\",\"logo\":\"https:\\/\\/media.api-sports.io\\/football\\/leagues\\/4.png\",\"flag\":null},\"event_date\":\"2024-06-17T19:00:00+00:00\",\"event_timestamp\":1718650800,\"firstHalfStart\":1718650800,\"secondHalfStart\":1718654400,\"round\":\"Group D - 1\",\"status\":\"Match Finished\",\"statusShort\":\"FT\",\"elapsed\":90,\"venue\":\"D\\u00fcsseldorf Arena\",\"referee\":\"Jesus Gil Manzano, Spain\",\"homeTeam\":{\"team_id\":775,\"team_name\":\"Austria\",\"logo\":\"https:\\/\\/media.api-sports.io\\/football\\/teams\\/775.png\"},\"awayTeam\":{\"team_id\":2,\"team_name\":\"France\",\"logo\":\"https:\\/\\/media.api-sports.io\\/football\\/teams\\/2.png\"},\"goalsHomeTeam\":0,\"goalsAwayTeam\":1,\"score\":{\"halftime\":\"0-1\",\"fulltime\":\"0-1\",\"extratime\":null,\"penalty\":null}},{\"fixture_id\":1145524,\"league_id\":5858,\"league\":{\"name\":\"Euro Championship\",\"country\":\"World\",\"logo\":\"https:\\/\\/media.api-sports.io\\/football\\/leagues\\/4.png\",\"flag\":null},\"event_date\":\"2024-06-21T19:00:00+00:00\",\"event_timestamp\":1718996400,\"firstHalfStart\":null,\"secondHalfStart\":null,\"round\":\"Group D - 2\",\"status\":\"Not Started\",\"statusShort\":\"NS\",\"elapsed\":0,\"venue\":\"Leipzig Stadium\",\"referee\":null,\"homeTeam\":{\"team_id\":1118,\"team_name\":\"Netherlands\",\"logo\":\"https:\\/\\/media.api-sports.io\\/football\\/teams\\/1118.png\"},\"awayTeam\":{\"team_id\":2,\"team_name\":\"France\",\"logo\":\"https:\\/\\/media.api-sports.io\\/football\\/teams\\/2.png\"},\"goalsHomeTeam\":null,\"goalsAwayTeam\":null,\"score\":{\"halftime\":null,\"fulltime\":null,\"extratime\":null,\"penalty\":null}},{\"fixture_id\":1189852,\"league_id\":5858,\"league\":{\"name\":\"Euro Championship\",\"country\":\"World\",\"logo\":\"https:\\/\\/media.api-sports.io\\/football\\/leagues\\/4.png\",\"flag\":null},\"event_date\":\"2024-06-25T16:00:00+00:00\",\"event_timestamp\":1719331200,\"firstHalfStart\":null,\"secondHalfStart\":null,\"round\":\"Group D - 3\",\"status\":\"Not Started\",\"statusShort\":\"NS\",\"elapsed\":0,\"venue\":\"BVB Stadion Dortmund\",\"referee\":null,\"homeTeam\":{\"team_id\":2,\"team_name\":\"France\",\"logo\":\"https:\\/\\/media.api-sports.io\\/football\\/teams\\/2.png\"},\"awayTeam\":{\"team_id\":24,\"team_name\":\"Poland\",\"logo\":\"https:\\/\\/media.api-sports.io\\/football\\/teams\\/24.png\"},\"goalsHomeTeam\":null,\"goalsAwayTeam\":null,\"score\":{\"halftime\":null,\"fulltime\":null,\"extratime\":null,\"penalty\":null}}]}}\n"
     ]
    }
   ],
   "source": [
    "import http.client\n",
    "\n",
    "conn = http.client.HTTPSConnection(\"api-football-v1.p.rapidapi.com\")\n",
    "\n",
    "headers = {\n",
    "    'X-RapidAPI-Key': \"d2e9c50e71msh9c1aa43d831af5cp1b4350jsnd108d9d34ba6\",\n",
    "    'X-RapidAPI-Host': \"api-football-v1.p.rapidapi.com\"\n",
    "}\n",
    "\n",
    "\n",
    "conn.request(\"GET\", f\"/v2/fixtures/team/2/5858?timezone=Europe/London\", headers=headers)\n",
    "\n",
    "res = conn.getresponse()\n",
    "data = res.read()\n",
    "\n",
    "print(data.decode(\"utf-8\"))\n",
    "\n",
    "# {\"api\":{\"results\":3,\"fixtures\":[{\"fixture_id\":1145515,\"league_id\":5858,\"league\":{\"name\":\"Euro Championship\",\"country\":\"World\",\"logo\":\"https:\\/\\/media.api-sports.io\\/football\\/leagues\\/4.png\",\"flag\":null},\"event_date\":\"2024-06-17T19:00:00+00:00\",\"event_timestamp\":1718650800,\"firstHalfStart\":1718650800,\"secondHalfStart\":1718654400,\"round\":\"Group D - 1\",\"status\":\"Match Finished\",\"statusShort\":\"FT\",\"elapsed\":90,\"venue\":\"D\\u00fcsseldorf Arena\",\"referee\":\"Jesus Gil Manzano, Spain\",\"homeTeam\":{\"team_id\":775,\"team_name\":\"Austria\",\"logo\":\"https:\\/\\/media.api-sports.io\\/football\\/teams\\/775.png\"},\"awayTeam\":{\"team_id\":2,\"team_name\":\"France\",\"logo\":\"https:\\/\\/media.api-sports.io\\/football\\/teams\\/2.png\"},\"goalsHomeTeam\":0,\"goalsAwayTeam\":1,\"score\":{\"halftime\":\"0-1\",\"fulltime\":\"0-1\",\"extratime\":null,\"penalty\":null}},{\"fixture_id\":1145524,\"league_id\":5858,\"league\":{\"name\":\"Euro Championship\",\"country\":\"World\",\"logo\":\"https:\\/\\/media.api-sports.io\\/football\\/leagues\\/4.png\",\"flag\":null},\"event_date\":\"2024-06-21T19:00:00+00:00\",\"event_timestamp\":1718996400,\"firstHalfStart\":null,\"secondHalfStart\":null,\"round\":\"Group D - 2\",\"status\":\"Not Started\",\"statusShort\":\"NS\",\"elapsed\":0,\"venue\":\"Leipzig Stadium\",\"referee\":null,\"homeTeam\":{\"team_id\":1118,\"team_name\":\"Netherlands\",\"logo\":\"https:\\/\\/media.api-sports.io\\/football\\/teams\\/1118.png\"},\"awayTeam\":{\"team_id\":2,\"team_name\":\"France\",\"logo\":\"https:\\/\\/media.api-sports.io\\/football\\/teams\\/2.png\"},\"goalsHomeTeam\":null,\"goalsAwayTeam\":null,\"score\":{\"halftime\":null,\"fulltime\":null,\"extratime\":null,\"penalty\":null}},{\"fixture_id\":1189852,\"league_id\":5858,\"league\":{\"name\":\"Euro Championship\",\"country\":\"World\",\"logo\":\"https:\\/\\/media.api-sports.io\\/football\\/leagues\\/4.png\",\"flag\":null},\"event_date\":\"2024-06-25T16:00:00+00:00\",\"event_timestamp\":1719331200,\"firstHalfStart\":null,\"secondHalfStart\":null,\"round\":\"Group D - 3\",\"status\":\"Not Started\",\"statusShort\":\"NS\",\"elapsed\":0,\"venue\":\"BVB Stadion Dortmund\",\"referee\":null,\"homeTeam\":{\"team_id\":2,\"team_name\":\"France\",\"logo\":\"https:\\/\\/media.api-sports.io\\/football\\/teams\\/2.png\"},\"awayTeam\":{\"team_id\":24,\"team_name\":\"Poland\",\"logo\":\"https:\\/\\/media.api-sports.io\\/football\\/teams\\/24.png\"},\"goalsHomeTeam\":null,\"goalsAwayTeam\":null,\"score\":{\"halftime\":null,\"fulltime\":null,\"extratime\":null,\"penalty\":null}}]}}\n"
   ]
  },
  {
   "cell_type": "code",
   "execution_count": 34,
   "metadata": {},
   "outputs": [
    {
     "ename": "ValueError",
     "evalue": "time data '2024-06-17T21:00:00+02:00' does not match format '%Y-%m-%dT%H:%M:%S+00:00'",
     "output_type": "error",
     "traceback": [
      "\u001b[0;31m---------------------------------------------------------------------------\u001b[0m",
      "\u001b[0;31mValueError\u001b[0m                                Traceback (most recent call last)",
      "Cell \u001b[0;32mIn[34], line 52\u001b[0m\n\u001b[1;32m     46\u001b[0m         team_fixtures\u001b[38;5;241m.\u001b[39mappend(\u001b[38;5;124mf\u001b[39m\u001b[38;5;124m\"\u001b[39m\u001b[38;5;132;01m{\u001b[39;00mteam_name\u001b[38;5;132;01m}\u001b[39;00m\u001b[38;5;124m plays \u001b[39m\u001b[38;5;132;01m{\u001b[39;00mopponent\u001b[38;5;132;01m}\u001b[39;00m\u001b[38;5;124m on the \u001b[39m\u001b[38;5;132;01m{\u001b[39;00mevent_date_formatted\u001b[38;5;132;01m}\u001b[39;00m\u001b[38;5;124m\"\u001b[39m)\n\u001b[1;32m     48\u001b[0m     \u001b[38;5;28;01mreturn\u001b[39;00m team_fixtures\n\u001b[0;32m---> 52\u001b[0m fixtures \u001b[38;5;241m=\u001b[39m \u001b[43mget_team_fixtures\u001b[49m\u001b[43m(\u001b[49m\u001b[38;5;124;43m\"\u001b[39;49m\u001b[38;5;124;43mFrance\u001b[39;49m\u001b[38;5;124;43m\"\u001b[39;49m\u001b[43m)\u001b[49m\n\u001b[1;32m     53\u001b[0m \u001b[38;5;28;01mfor\u001b[39;00m fixture \u001b[38;5;129;01min\u001b[39;00m fixtures:\n\u001b[1;32m     54\u001b[0m     \u001b[38;5;28mprint\u001b[39m(fixture)\n",
      "Cell \u001b[0;32mIn[34], line 37\u001b[0m, in \u001b[0;36mget_team_fixtures\u001b[0;34m(team_name)\u001b[0m\n\u001b[1;32m     34\u001b[0m event_date \u001b[38;5;241m=\u001b[39m fixture[\u001b[38;5;124m'\u001b[39m\u001b[38;5;124mevent_date\u001b[39m\u001b[38;5;124m'\u001b[39m]\n\u001b[1;32m     36\u001b[0m \u001b[38;5;66;03m# Convert the event date to a readable format\u001b[39;00m\n\u001b[0;32m---> 37\u001b[0m event_date_formatted \u001b[38;5;241m=\u001b[39m \u001b[43mdatetime\u001b[49m\u001b[38;5;241;43m.\u001b[39;49m\u001b[43mstrptime\u001b[49m\u001b[43m(\u001b[49m\u001b[43mevent_date\u001b[49m\u001b[43m,\u001b[49m\u001b[43m \u001b[49m\u001b[38;5;124;43m\"\u001b[39;49m\u001b[38;5;124;43m%\u001b[39;49m\u001b[38;5;124;43mY-\u001b[39;49m\u001b[38;5;124;43m%\u001b[39;49m\u001b[38;5;124;43mm-\u001b[39;49m\u001b[38;5;132;43;01m%d\u001b[39;49;00m\u001b[38;5;124;43mT\u001b[39;49m\u001b[38;5;124;43m%\u001b[39;49m\u001b[38;5;124;43mH:\u001b[39;49m\u001b[38;5;124;43m%\u001b[39;49m\u001b[38;5;124;43mM:\u001b[39;49m\u001b[38;5;124;43m%\u001b[39;49m\u001b[38;5;124;43mS+00:00\u001b[39;49m\u001b[38;5;124;43m\"\u001b[39;49m\u001b[43m)\u001b[49m\u001b[38;5;241m.\u001b[39mstrftime(\u001b[38;5;124m\"\u001b[39m\u001b[38;5;132;01m%d\u001b[39;00m\u001b[38;5;124m \u001b[39m\u001b[38;5;124m%\u001b[39m\u001b[38;5;124mB\u001b[39m\u001b[38;5;124m\"\u001b[39m)\n\u001b[1;32m     39\u001b[0m \u001b[38;5;28;01mif\u001b[39;00m home_team \u001b[38;5;241m==\u001b[39m team_name:\n\u001b[1;32m     40\u001b[0m     opponent \u001b[38;5;241m=\u001b[39m away_team\n",
      "File \u001b[0;32m~/anaconda3/envs/PythonAI/lib/python3.10/_strptime.py:568\u001b[0m, in \u001b[0;36m_strptime_datetime\u001b[0;34m(cls, data_string, format)\u001b[0m\n\u001b[1;32m    565\u001b[0m \u001b[38;5;28;01mdef\u001b[39;00m \u001b[38;5;21m_strptime_datetime\u001b[39m(\u001b[38;5;28mcls\u001b[39m, data_string, \u001b[38;5;28mformat\u001b[39m\u001b[38;5;241m=\u001b[39m\u001b[38;5;124m\"\u001b[39m\u001b[38;5;132;01m%a\u001b[39;00m\u001b[38;5;124m \u001b[39m\u001b[38;5;124m%\u001b[39m\u001b[38;5;124mb \u001b[39m\u001b[38;5;132;01m%d\u001b[39;00m\u001b[38;5;124m \u001b[39m\u001b[38;5;124m%\u001b[39m\u001b[38;5;124mH:\u001b[39m\u001b[38;5;124m%\u001b[39m\u001b[38;5;124mM:\u001b[39m\u001b[38;5;124m%\u001b[39m\u001b[38;5;124mS \u001b[39m\u001b[38;5;124m%\u001b[39m\u001b[38;5;124mY\u001b[39m\u001b[38;5;124m\"\u001b[39m):\n\u001b[1;32m    566\u001b[0m \u001b[38;5;250m    \u001b[39m\u001b[38;5;124;03m\"\"\"Return a class cls instance based on the input string and the\u001b[39;00m\n\u001b[1;32m    567\u001b[0m \u001b[38;5;124;03m    format string.\"\"\"\u001b[39;00m\n\u001b[0;32m--> 568\u001b[0m     tt, fraction, gmtoff_fraction \u001b[38;5;241m=\u001b[39m \u001b[43m_strptime\u001b[49m\u001b[43m(\u001b[49m\u001b[43mdata_string\u001b[49m\u001b[43m,\u001b[49m\u001b[43m \u001b[49m\u001b[38;5;28;43mformat\u001b[39;49m\u001b[43m)\u001b[49m\n\u001b[1;32m    569\u001b[0m     tzname, gmtoff \u001b[38;5;241m=\u001b[39m tt[\u001b[38;5;241m-\u001b[39m\u001b[38;5;241m2\u001b[39m:]\n\u001b[1;32m    570\u001b[0m     args \u001b[38;5;241m=\u001b[39m tt[:\u001b[38;5;241m6\u001b[39m] \u001b[38;5;241m+\u001b[39m (fraction,)\n",
      "File \u001b[0;32m~/anaconda3/envs/PythonAI/lib/python3.10/_strptime.py:349\u001b[0m, in \u001b[0;36m_strptime\u001b[0;34m(data_string, format)\u001b[0m\n\u001b[1;32m    347\u001b[0m found \u001b[38;5;241m=\u001b[39m format_regex\u001b[38;5;241m.\u001b[39mmatch(data_string)\n\u001b[1;32m    348\u001b[0m \u001b[38;5;28;01mif\u001b[39;00m \u001b[38;5;129;01mnot\u001b[39;00m found:\n\u001b[0;32m--> 349\u001b[0m     \u001b[38;5;28;01mraise\u001b[39;00m \u001b[38;5;167;01mValueError\u001b[39;00m(\u001b[38;5;124m\"\u001b[39m\u001b[38;5;124mtime data \u001b[39m\u001b[38;5;132;01m%r\u001b[39;00m\u001b[38;5;124m does not match format \u001b[39m\u001b[38;5;132;01m%r\u001b[39;00m\u001b[38;5;124m\"\u001b[39m \u001b[38;5;241m%\u001b[39m\n\u001b[1;32m    350\u001b[0m                      (data_string, \u001b[38;5;28mformat\u001b[39m))\n\u001b[1;32m    351\u001b[0m \u001b[38;5;28;01mif\u001b[39;00m \u001b[38;5;28mlen\u001b[39m(data_string) \u001b[38;5;241m!=\u001b[39m found\u001b[38;5;241m.\u001b[39mend():\n\u001b[1;32m    352\u001b[0m     \u001b[38;5;28;01mraise\u001b[39;00m \u001b[38;5;167;01mValueError\u001b[39;00m(\u001b[38;5;124m\"\u001b[39m\u001b[38;5;124munconverted data remains: \u001b[39m\u001b[38;5;132;01m%s\u001b[39;00m\u001b[38;5;124m\"\u001b[39m \u001b[38;5;241m%\u001b[39m\n\u001b[1;32m    353\u001b[0m                       data_string[found\u001b[38;5;241m.\u001b[39mend():])\n",
      "\u001b[0;31mValueError\u001b[0m: time data '2024-06-17T21:00:00+02:00' does not match format '%Y-%m-%dT%H:%M:%S+00:00'"
     ]
    }
   ],
   "source": [
    "import http.client\n",
    "import json\n",
    "from datetime import datetime\n",
    "\n",
    "def get_team_fixtures(team_name):\n",
    "    conn = http.client.HTTPSConnection(\"api-football-v1.p.rapidapi.com\")\n",
    "\n",
    "    headers = {\n",
    "        'X-RapidAPI-Key': \"d2e9c50e71msh9c1aa43d831af5cp1b4350jsnd108d9d34ba6\",\n",
    "        'X-RapidAPI-Host': \"api-football-v1.p.rapidapi.com\"\n",
    "    }\n",
    "\n",
    "    conn.request(\"GET\", \"/v2/fixtures/team/2/5858?timezone=Europe/Amsterdam\", headers=headers)\n",
    "\n",
    "    res = conn.getresponse()\n",
    "    data = res.read()\n",
    "\n",
    "    data_str = data.decode(\"utf-8\")\n",
    "\n",
    "    data_json = json.loads(data_str)\n",
    "\n",
    "    fixtures = data_json.get('api', {}).get('fixtures', [])\n",
    "\n",
    "    team_fixtures = []\n",
    "\n",
    "    for fixture in fixtures:\n",
    "        home_team = fixture['homeTeam']['team_name']\n",
    "        away_team = fixture['awayTeam']['team_name']\n",
    "        event_date = fixture['event_date']\n",
    "        \n",
    "        event_date_formatted = datetime.strptime(event_date, \"%Y-%m-%dT%H:%M:%S+00:00\").strftime(\"%d %B\")\n",
    "        \n",
    "        if home_team == team_name:\n",
    "            opponent = away_team\n",
    "        elif away_team == team_name:\n",
    "            opponent = home_team\n",
    "        else:\n",
    "            continue\n",
    "\n",
    "        team_fixtures.append(f\"{team_name} plays {opponent} on the {event_date_formatted}\")\n",
    "\n",
    "    return team_fixtures\n",
    "\n",
    "\n",
    "\n",
    "fixtures = get_team_fixtures(\"France\")\n",
    "for fixture in fixtures:\n",
    "    print(fixture)"
   ]
  }
 ],
 "metadata": {
  "kernelspec": {
   "display_name": "PythonAI",
   "language": "python",
   "name": "python3"
  },
  "language_info": {
   "codemirror_mode": {
    "name": "ipython",
    "version": 3
   },
   "file_extension": ".py",
   "mimetype": "text/x-python",
   "name": "python",
   "nbconvert_exporter": "python",
   "pygments_lexer": "ipython3",
   "version": "3.12.3"
  }
 },
 "nbformat": 4,
 "nbformat_minor": 2
}
