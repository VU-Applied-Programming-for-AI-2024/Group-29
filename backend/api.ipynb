{
 "cells": [
  {
   "cell_type": "code",
   "execution_count": 32,
   "metadata": {},
   "outputs": [
    {
     "name": "stdout",
     "output_type": "stream",
     "text": [
      "{\"api\":{\"results\":3,\"fixtures\":[{\"fixture_id\":1145515,\"league_id\":5858,\"league\":{\"name\":\"Euro Championship\",\"country\":\"World\",\"logo\":\"https:\\/\\/media.api-sports.io\\/football\\/leagues\\/4.png\",\"flag\":null},\"event_date\":\"2024-06-17T19:00:00+00:00\",\"event_timestamp\":1718650800,\"firstHalfStart\":1718650800,\"secondHalfStart\":1718654400,\"round\":\"Group D - 1\",\"status\":\"Match Finished\",\"statusShort\":\"FT\",\"elapsed\":90,\"venue\":\"D\\u00fcsseldorf Arena\",\"referee\":\"Jesus Gil Manzano, Spain\",\"homeTeam\":{\"team_id\":775,\"team_name\":\"Austria\",\"logo\":\"https:\\/\\/media.api-sports.io\\/football\\/teams\\/775.png\"},\"awayTeam\":{\"team_id\":2,\"team_name\":\"France\",\"logo\":\"https:\\/\\/media.api-sports.io\\/football\\/teams\\/2.png\"},\"goalsHomeTeam\":0,\"goalsAwayTeam\":1,\"score\":{\"halftime\":\"0-1\",\"fulltime\":\"0-1\",\"extratime\":null,\"penalty\":null}},{\"fixture_id\":1145524,\"league_id\":5858,\"league\":{\"name\":\"Euro Championship\",\"country\":\"World\",\"logo\":\"https:\\/\\/media.api-sports.io\\/football\\/leagues\\/4.png\",\"flag\":null},\"event_date\":\"2024-06-21T19:00:00+00:00\",\"event_timestamp\":1718996400,\"firstHalfStart\":null,\"secondHalfStart\":null,\"round\":\"Group D - 2\",\"status\":\"Not Started\",\"statusShort\":\"NS\",\"elapsed\":0,\"venue\":\"Leipzig Stadium\",\"referee\":null,\"homeTeam\":{\"team_id\":1118,\"team_name\":\"Netherlands\",\"logo\":\"https:\\/\\/media.api-sports.io\\/football\\/teams\\/1118.png\"},\"awayTeam\":{\"team_id\":2,\"team_name\":\"France\",\"logo\":\"https:\\/\\/media.api-sports.io\\/football\\/teams\\/2.png\"},\"goalsHomeTeam\":null,\"goalsAwayTeam\":null,\"score\":{\"halftime\":null,\"fulltime\":null,\"extratime\":null,\"penalty\":null}},{\"fixture_id\":1189852,\"league_id\":5858,\"league\":{\"name\":\"Euro Championship\",\"country\":\"World\",\"logo\":\"https:\\/\\/media.api-sports.io\\/football\\/leagues\\/4.png\",\"flag\":null},\"event_date\":\"2024-06-25T16:00:00+00:00\",\"event_timestamp\":1719331200,\"firstHalfStart\":null,\"secondHalfStart\":null,\"round\":\"Group D - 3\",\"status\":\"Not Started\",\"statusShort\":\"NS\",\"elapsed\":0,\"venue\":\"BVB Stadion Dortmund\",\"referee\":null,\"homeTeam\":{\"team_id\":2,\"team_name\":\"France\",\"logo\":\"https:\\/\\/media.api-sports.io\\/football\\/teams\\/2.png\"},\"awayTeam\":{\"team_id\":24,\"team_name\":\"Poland\",\"logo\":\"https:\\/\\/media.api-sports.io\\/football\\/teams\\/24.png\"},\"goalsHomeTeam\":null,\"goalsAwayTeam\":null,\"score\":{\"halftime\":null,\"fulltime\":null,\"extratime\":null,\"penalty\":null}}]}}\n"
     ]
    }
   ],
   "source": [
    "import http.client\n",
    "\n",
    "conn = http.client.HTTPSConnection(\"api-football-v1.p.rapidapi.com\")\n",
    "\n",
    "headers = {\n",
    "    'X-RapidAPI-Key': \"d2e9c50e71msh9c1aa43d831af5cp1b4350jsnd108d9d34ba6\",\n",
    "    'X-RapidAPI-Host': \"api-football-v1.p.rapidapi.com\"\n",
    "}\n",
    "\n",
    "\n",
    "conn.request(\"GET\", f\"/v2/fixtures/team/2/5858?timezone=Europe/London\", headers=headers)\n",
    "\n",
    "res = conn.getresponse()\n",
    "data = res.read()\n",
    "\n",
    "print(data.decode(\"utf-8\"))\n",
    "\n",
    "# {\"api\":{\"results\":3,\"fixtures\":[{\"fixture_id\":1145515,\"league_id\":5858,\"league\":{\"name\":\"Euro Championship\",\"country\":\"World\",\"logo\":\"https:\\/\\/media.api-sports.io\\/football\\/leagues\\/4.png\",\"flag\":null},\"event_date\":\"2024-06-17T19:00:00+00:00\",\"event_timestamp\":1718650800,\"firstHalfStart\":1718650800,\"secondHalfStart\":1718654400,\"round\":\"Group D - 1\",\"status\":\"Match Finished\",\"statusShort\":\"FT\",\"elapsed\":90,\"venue\":\"D\\u00fcsseldorf Arena\",\"referee\":\"Jesus Gil Manzano, Spain\",\"homeTeam\":{\"team_id\":775,\"team_name\":\"Austria\",\"logo\":\"https:\\/\\/media.api-sports.io\\/football\\/teams\\/775.png\"},\"awayTeam\":{\"team_id\":2,\"team_name\":\"France\",\"logo\":\"https:\\/\\/media.api-sports.io\\/football\\/teams\\/2.png\"},\"goalsHomeTeam\":0,\"goalsAwayTeam\":1,\"score\":{\"halftime\":\"0-1\",\"fulltime\":\"0-1\",\"extratime\":null,\"penalty\":null}},{\"fixture_id\":1145524,\"league_id\":5858,\"league\":{\"name\":\"Euro Championship\",\"country\":\"World\",\"logo\":\"https:\\/\\/media.api-sports.io\\/football\\/leagues\\/4.png\",\"flag\":null},\"event_date\":\"2024-06-21T19:00:00+00:00\",\"event_timestamp\":1718996400,\"firstHalfStart\":null,\"secondHalfStart\":null,\"round\":\"Group D - 2\",\"status\":\"Not Started\",\"statusShort\":\"NS\",\"elapsed\":0,\"venue\":\"Leipzig Stadium\",\"referee\":null,\"homeTeam\":{\"team_id\":1118,\"team_name\":\"Netherlands\",\"logo\":\"https:\\/\\/media.api-sports.io\\/football\\/teams\\/1118.png\"},\"awayTeam\":{\"team_id\":2,\"team_name\":\"France\",\"logo\":\"https:\\/\\/media.api-sports.io\\/football\\/teams\\/2.png\"},\"goalsHomeTeam\":null,\"goalsAwayTeam\":null,\"score\":{\"halftime\":null,\"fulltime\":null,\"extratime\":null,\"penalty\":null}},{\"fixture_id\":1189852,\"league_id\":5858,\"league\":{\"name\":\"Euro Championship\",\"country\":\"World\",\"logo\":\"https:\\/\\/media.api-sports.io\\/football\\/leagues\\/4.png\",\"flag\":null},\"event_date\":\"2024-06-25T16:00:00+00:00\",\"event_timestamp\":1719331200,\"firstHalfStart\":null,\"secondHalfStart\":null,\"round\":\"Group D - 3\",\"status\":\"Not Started\",\"statusShort\":\"NS\",\"elapsed\":0,\"venue\":\"BVB Stadion Dortmund\",\"referee\":null,\"homeTeam\":{\"team_id\":2,\"team_name\":\"France\",\"logo\":\"https:\\/\\/media.api-sports.io\\/football\\/teams\\/2.png\"},\"awayTeam\":{\"team_id\":24,\"team_name\":\"Poland\",\"logo\":\"https:\\/\\/media.api-sports.io\\/football\\/teams\\/24.png\"},\"goalsHomeTeam\":null,\"goalsAwayTeam\":null,\"score\":{\"halftime\":null,\"fulltime\":null,\"extratime\":null,\"penalty\":null}}]}}\n"
   ]
  }
 ],
 "metadata": {
  "kernelspec": {
   "display_name": "PythonAI",
   "language": "python",
   "name": "python3"
  },
  "language_info": {
   "codemirror_mode": {
    "name": "ipython",
    "version": 3
   },
   "file_extension": ".py",
   "mimetype": "text/x-python",
   "name": "python",
   "nbconvert_exporter": "python",
   "pygments_lexer": "ipython3",
   "version": "3.10.12"
  }
 },
 "nbformat": 4,
 "nbformat_minor": 2
}
