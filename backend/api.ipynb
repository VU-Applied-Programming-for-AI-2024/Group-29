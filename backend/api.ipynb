{
 "cells": [
  {
   "cell_type": "code",
   "execution_count": 32,
   "metadata": {},
   "outputs": [
    {
     "name": "stdout",
     "output_type": "stream",
     "text": [
      "{\"api\":{\"results\":3,\"fixtures\":[{\"fixture_id\":1145515,\"league_id\":5858,\"league\":{\"name\":\"Euro Championship\",\"country\":\"World\",\"logo\":\"https:\\/\\/media.api-sports.io\\/football\\/leagues\\/4.png\",\"flag\":null},\"event_date\":\"2024-06-17T19:00:00+00:00\",\"event_timestamp\":1718650800,\"firstHalfStart\":1718650800,\"secondHalfStart\":1718654400,\"round\":\"Group D - 1\",\"status\":\"Match Finished\",\"statusShort\":\"FT\",\"elapsed\":90,\"venue\":\"D\\u00fcsseldorf Arena\",\"referee\":\"Jesus Gil Manzano, Spain\",\"homeTeam\":{\"team_id\":775,\"team_name\":\"Austria\",\"logo\":\"https:\\/\\/media.api-sports.io\\/football\\/teams\\/775.png\"},\"awayTeam\":{\"team_id\":2,\"team_name\":\"France\",\"logo\":\"https:\\/\\/media.api-sports.io\\/football\\/teams\\/2.png\"},\"goalsHomeTeam\":0,\"goalsAwayTeam\":1,\"score\":{\"halftime\":\"0-1\",\"fulltime\":\"0-1\",\"extratime\":null,\"penalty\":null}},{\"fixture_id\":1145524,\"league_id\":5858,\"league\":{\"name\":\"Euro Championship\",\"country\":\"World\",\"logo\":\"https:\\/\\/media.api-sports.io\\/football\\/leagues\\/4.png\",\"flag\":null},\"event_date\":\"2024-06-21T19:00:00+00:00\",\"event_timestamp\":1718996400,\"firstHalfStart\":null,\"secondHalfStart\":null,\"round\":\"Group D - 2\",\"status\":\"Not Started\",\"statusShort\":\"NS\",\"elapsed\":0,\"venue\":\"Leipzig Stadium\",\"referee\":null,\"homeTeam\":{\"team_id\":1118,\"team_name\":\"Netherlands\",\"logo\":\"https:\\/\\/media.api-sports.io\\/football\\/teams\\/1118.png\"},\"awayTeam\":{\"team_id\":2,\"team_name\":\"France\",\"logo\":\"https:\\/\\/media.api-sports.io\\/football\\/teams\\/2.png\"},\"goalsHomeTeam\":null,\"goalsAwayTeam\":null,\"score\":{\"halftime\":null,\"fulltime\":null,\"extratime\":null,\"penalty\":null}},{\"fixture_id\":1189852,\"league_id\":5858,\"league\":{\"name\":\"Euro Championship\",\"country\":\"World\",\"logo\":\"https:\\/\\/media.api-sports.io\\/football\\/leagues\\/4.png\",\"flag\":null},\"event_date\":\"2024-06-25T16:00:00+00:00\",\"event_timestamp\":1719331200,\"firstHalfStart\":null,\"secondHalfStart\":null,\"round\":\"Group D - 3\",\"status\":\"Not Started\",\"statusShort\":\"NS\",\"elapsed\":0,\"venue\":\"BVB Stadion Dortmund\",\"referee\":null,\"homeTeam\":{\"team_id\":2,\"team_name\":\"France\",\"logo\":\"https:\\/\\/media.api-sports.io\\/football\\/teams\\/2.png\"},\"awayTeam\":{\"team_id\":24,\"team_name\":\"Poland\",\"logo\":\"https:\\/\\/media.api-sports.io\\/football\\/teams\\/24.png\"},\"goalsHomeTeam\":null,\"goalsAwayTeam\":null,\"score\":{\"halftime\":null,\"fulltime\":null,\"extratime\":null,\"penalty\":null}}]}}\n"
     ]
    }
   ],
   "source": [
    "import http.client\n",
    "\n",
    "conn = http.client.HTTPSConnection(\"api-football-v1.p.rapidapi.com\")\n",
    "\n",
    "headers = {\n",
    "    'X-RapidAPI-Key': \"d2e9c50e71msh9c1aa43d831af5cp1b4350jsnd108d9d34ba6\",\n",
    "    'X-RapidAPI-Host': \"api-football-v1.p.rapidapi.com\"\n",
    "}\n",
    "\n",
    "\n",
    "conn.request(\"GET\", f\"/v2/fixtures/team/2/5858?timezone=Europe/London\", headers=headers)\n",
    "\n",
    "res = conn.getresponse()\n",
    "data = res.read()\n",
    "\n",
    "print(data.decode(\"utf-8\"))\n",
    "\n",
    "# {\"api\":{\"results\":3,\"fixtures\":[{\"fixture_id\":1145515,\"league_id\":5858,\"league\":{\"name\":\"Euro Championship\",\"country\":\"World\",\"logo\":\"https:\\/\\/media.api-sports.io\\/football\\/leagues\\/4.png\",\"flag\":null},\"event_date\":\"2024-06-17T19:00:00+00:00\",\"event_timestamp\":1718650800,\"firstHalfStart\":1718650800,\"secondHalfStart\":1718654400,\"round\":\"Group D - 1\",\"status\":\"Match Finished\",\"statusShort\":\"FT\",\"elapsed\":90,\"venue\":\"D\\u00fcsseldorf Arena\",\"referee\":\"Jesus Gil Manzano, Spain\",\"homeTeam\":{\"team_id\":775,\"team_name\":\"Austria\",\"logo\":\"https:\\/\\/media.api-sports.io\\/football\\/teams\\/775.png\"},\"awayTeam\":{\"team_id\":2,\"team_name\":\"France\",\"logo\":\"https:\\/\\/media.api-sports.io\\/football\\/teams\\/2.png\"},\"goalsHomeTeam\":0,\"goalsAwayTeam\":1,\"score\":{\"halftime\":\"0-1\",\"fulltime\":\"0-1\",\"extratime\":null,\"penalty\":null}},{\"fixture_id\":1145524,\"league_id\":5858,\"league\":{\"name\":\"Euro Championship\",\"country\":\"World\",\"logo\":\"https:\\/\\/media.api-sports.io\\/football\\/leagues\\/4.png\",\"flag\":null},\"event_date\":\"2024-06-21T19:00:00+00:00\",\"event_timestamp\":1718996400,\"firstHalfStart\":null,\"secondHalfStart\":null,\"round\":\"Group D - 2\",\"status\":\"Not Started\",\"statusShort\":\"NS\",\"elapsed\":0,\"venue\":\"Leipzig Stadium\",\"referee\":null,\"homeTeam\":{\"team_id\":1118,\"team_name\":\"Netherlands\",\"logo\":\"https:\\/\\/media.api-sports.io\\/football\\/teams\\/1118.png\"},\"awayTeam\":{\"team_id\":2,\"team_name\":\"France\",\"logo\":\"https:\\/\\/media.api-sports.io\\/football\\/teams\\/2.png\"},\"goalsHomeTeam\":null,\"goalsAwayTeam\":null,\"score\":{\"halftime\":null,\"fulltime\":null,\"extratime\":null,\"penalty\":null}},{\"fixture_id\":1189852,\"league_id\":5858,\"league\":{\"name\":\"Euro Championship\",\"country\":\"World\",\"logo\":\"https:\\/\\/media.api-sports.io\\/football\\/leagues\\/4.png\",\"flag\":null},\"event_date\":\"2024-06-25T16:00:00+00:00\",\"event_timestamp\":1719331200,\"firstHalfStart\":null,\"secondHalfStart\":null,\"round\":\"Group D - 3\",\"status\":\"Not Started\",\"statusShort\":\"NS\",\"elapsed\":0,\"venue\":\"BVB Stadion Dortmund\",\"referee\":null,\"homeTeam\":{\"team_id\":2,\"team_name\":\"France\",\"logo\":\"https:\\/\\/media.api-sports.io\\/football\\/teams\\/2.png\"},\"awayTeam\":{\"team_id\":24,\"team_name\":\"Poland\",\"logo\":\"https:\\/\\/media.api-sports.io\\/football\\/teams\\/24.png\"},\"goalsHomeTeam\":null,\"goalsAwayTeam\":null,\"score\":{\"halftime\":null,\"fulltime\":null,\"extratime\":null,\"penalty\":null}}]}}\n"
   ]
  },
  {
   "cell_type": "code",
   "execution_count": 2,
   "metadata": {},
   "outputs": [
    {
     "ename": "SSLCertVerificationError",
     "evalue": "[SSL: CERTIFICATE_VERIFY_FAILED] certificate verify failed: unable to get local issuer certificate (_ssl.c:1000)",
     "output_type": "error",
     "traceback": [
      "\u001b[0;31m---------------------------------------------------------------------------\u001b[0m",
      "\u001b[0;31mSSLCertVerificationError\u001b[0m                  Traceback (most recent call last)",
      "Cell \u001b[0;32mIn[2], line 50\u001b[0m\n\u001b[1;32m     46\u001b[0m     \u001b[38;5;28;01mreturn\u001b[39;00m team_fixtures\n\u001b[1;32m     49\u001b[0m \u001b[38;5;66;03m# Example usage\u001b[39;00m\n\u001b[0;32m---> 50\u001b[0m fixtures \u001b[38;5;241m=\u001b[39m \u001b[43mget_team_fixtures\u001b[49m\u001b[43m(\u001b[49m\u001b[38;5;241;43m2\u001b[39;49m\u001b[43m)\u001b[49m\n\u001b[1;32m     51\u001b[0m \u001b[38;5;28;01mfor\u001b[39;00m fixture \u001b[38;5;129;01min\u001b[39;00m fixtures:\n\u001b[1;32m     52\u001b[0m     \u001b[38;5;28mprint\u001b[39m(fixture)\n",
      "Cell \u001b[0;32mIn[2], line 14\u001b[0m, in \u001b[0;36mget_team_fixtures\u001b[0;34m(team_id)\u001b[0m\n\u001b[1;32m      7\u001b[0m conn \u001b[38;5;241m=\u001b[39m http\u001b[38;5;241m.\u001b[39mclient\u001b[38;5;241m.\u001b[39mHTTPSConnection(\u001b[38;5;124m\"\u001b[39m\u001b[38;5;124mapi-football-v1.p.rapidapi.com\u001b[39m\u001b[38;5;124m\"\u001b[39m)\n\u001b[1;32m      9\u001b[0m headers \u001b[38;5;241m=\u001b[39m {\n\u001b[1;32m     10\u001b[0m     \u001b[38;5;124m'\u001b[39m\u001b[38;5;124mX-RapidAPI-Key\u001b[39m\u001b[38;5;124m'\u001b[39m: \u001b[38;5;124m\"\u001b[39m\u001b[38;5;124md2e9c50e71msh9c1aa43d831af5cp1b4350jsnd108d9d34ba6\u001b[39m\u001b[38;5;124m\"\u001b[39m,\n\u001b[1;32m     11\u001b[0m     \u001b[38;5;124m'\u001b[39m\u001b[38;5;124mX-RapidAPI-Host\u001b[39m\u001b[38;5;124m'\u001b[39m: \u001b[38;5;124m\"\u001b[39m\u001b[38;5;124mapi-football-v1.p.rapidapi.com\u001b[39m\u001b[38;5;124m\"\u001b[39m\n\u001b[1;32m     12\u001b[0m }\n\u001b[0;32m---> 14\u001b[0m \u001b[43mconn\u001b[49m\u001b[38;5;241;43m.\u001b[39;49m\u001b[43mrequest\u001b[49m\u001b[43m(\u001b[49m\u001b[38;5;124;43m\"\u001b[39;49m\u001b[38;5;124;43mGET\u001b[39;49m\u001b[38;5;124;43m\"\u001b[39;49m\u001b[43m,\u001b[49m\u001b[43m \u001b[49m\u001b[38;5;124;43mf\u001b[39;49m\u001b[38;5;124;43m\"\u001b[39;49m\u001b[38;5;124;43m/v2/fixtures/team/\u001b[39;49m\u001b[38;5;132;43;01m{\u001b[39;49;00m\u001b[43mteam_id\u001b[49m\u001b[38;5;132;43;01m}\u001b[39;49;00m\u001b[38;5;124;43m/5858?timezone=Europe/Amsterdam\u001b[39;49m\u001b[38;5;124;43m\"\u001b[39;49m\u001b[43m,\u001b[49m\u001b[43m \u001b[49m\u001b[43mheaders\u001b[49m\u001b[38;5;241;43m=\u001b[39;49m\u001b[43mheaders\u001b[49m\u001b[43m)\u001b[49m\n\u001b[1;32m     16\u001b[0m res \u001b[38;5;241m=\u001b[39m conn\u001b[38;5;241m.\u001b[39mgetresponse()\n\u001b[1;32m     17\u001b[0m data \u001b[38;5;241m=\u001b[39m res\u001b[38;5;241m.\u001b[39mread()\n",
      "File \u001b[0;32m/Library/Frameworks/Python.framework/Versions/3.12/lib/python3.12/http/client.py:1336\u001b[0m, in \u001b[0;36mHTTPConnection.request\u001b[0;34m(self, method, url, body, headers, encode_chunked)\u001b[0m\n\u001b[1;32m   1333\u001b[0m \u001b[38;5;28;01mdef\u001b[39;00m \u001b[38;5;21mrequest\u001b[39m(\u001b[38;5;28mself\u001b[39m, method, url, body\u001b[38;5;241m=\u001b[39m\u001b[38;5;28;01mNone\u001b[39;00m, headers\u001b[38;5;241m=\u001b[39m{}, \u001b[38;5;241m*\u001b[39m,\n\u001b[1;32m   1334\u001b[0m             encode_chunked\u001b[38;5;241m=\u001b[39m\u001b[38;5;28;01mFalse\u001b[39;00m):\n\u001b[1;32m   1335\u001b[0m \u001b[38;5;250m    \u001b[39m\u001b[38;5;124;03m\"\"\"Send a complete request to the server.\"\"\"\u001b[39;00m\n\u001b[0;32m-> 1336\u001b[0m     \u001b[38;5;28;43mself\u001b[39;49m\u001b[38;5;241;43m.\u001b[39;49m\u001b[43m_send_request\u001b[49m\u001b[43m(\u001b[49m\u001b[43mmethod\u001b[49m\u001b[43m,\u001b[49m\u001b[43m \u001b[49m\u001b[43murl\u001b[49m\u001b[43m,\u001b[49m\u001b[43m \u001b[49m\u001b[43mbody\u001b[49m\u001b[43m,\u001b[49m\u001b[43m \u001b[49m\u001b[43mheaders\u001b[49m\u001b[43m,\u001b[49m\u001b[43m \u001b[49m\u001b[43mencode_chunked\u001b[49m\u001b[43m)\u001b[49m\n",
      "File \u001b[0;32m/Library/Frameworks/Python.framework/Versions/3.12/lib/python3.12/http/client.py:1382\u001b[0m, in \u001b[0;36mHTTPConnection._send_request\u001b[0;34m(self, method, url, body, headers, encode_chunked)\u001b[0m\n\u001b[1;32m   1378\u001b[0m \u001b[38;5;28;01mif\u001b[39;00m \u001b[38;5;28misinstance\u001b[39m(body, \u001b[38;5;28mstr\u001b[39m):\n\u001b[1;32m   1379\u001b[0m     \u001b[38;5;66;03m# RFC 2616 Section 3.7.1 says that text default has a\u001b[39;00m\n\u001b[1;32m   1380\u001b[0m     \u001b[38;5;66;03m# default charset of iso-8859-1.\u001b[39;00m\n\u001b[1;32m   1381\u001b[0m     body \u001b[38;5;241m=\u001b[39m _encode(body, \u001b[38;5;124m'\u001b[39m\u001b[38;5;124mbody\u001b[39m\u001b[38;5;124m'\u001b[39m)\n\u001b[0;32m-> 1382\u001b[0m \u001b[38;5;28;43mself\u001b[39;49m\u001b[38;5;241;43m.\u001b[39;49m\u001b[43mendheaders\u001b[49m\u001b[43m(\u001b[49m\u001b[43mbody\u001b[49m\u001b[43m,\u001b[49m\u001b[43m \u001b[49m\u001b[43mencode_chunked\u001b[49m\u001b[38;5;241;43m=\u001b[39;49m\u001b[43mencode_chunked\u001b[49m\u001b[43m)\u001b[49m\n",
      "File \u001b[0;32m/Library/Frameworks/Python.framework/Versions/3.12/lib/python3.12/http/client.py:1331\u001b[0m, in \u001b[0;36mHTTPConnection.endheaders\u001b[0;34m(self, message_body, encode_chunked)\u001b[0m\n\u001b[1;32m   1329\u001b[0m \u001b[38;5;28;01melse\u001b[39;00m:\n\u001b[1;32m   1330\u001b[0m     \u001b[38;5;28;01mraise\u001b[39;00m CannotSendHeader()\n\u001b[0;32m-> 1331\u001b[0m \u001b[38;5;28;43mself\u001b[39;49m\u001b[38;5;241;43m.\u001b[39;49m\u001b[43m_send_output\u001b[49m\u001b[43m(\u001b[49m\u001b[43mmessage_body\u001b[49m\u001b[43m,\u001b[49m\u001b[43m \u001b[49m\u001b[43mencode_chunked\u001b[49m\u001b[38;5;241;43m=\u001b[39;49m\u001b[43mencode_chunked\u001b[49m\u001b[43m)\u001b[49m\n",
      "File \u001b[0;32m/Library/Frameworks/Python.framework/Versions/3.12/lib/python3.12/http/client.py:1091\u001b[0m, in \u001b[0;36mHTTPConnection._send_output\u001b[0;34m(self, message_body, encode_chunked)\u001b[0m\n\u001b[1;32m   1089\u001b[0m msg \u001b[38;5;241m=\u001b[39m \u001b[38;5;124mb\u001b[39m\u001b[38;5;124m\"\u001b[39m\u001b[38;5;130;01m\\r\u001b[39;00m\u001b[38;5;130;01m\\n\u001b[39;00m\u001b[38;5;124m\"\u001b[39m\u001b[38;5;241m.\u001b[39mjoin(\u001b[38;5;28mself\u001b[39m\u001b[38;5;241m.\u001b[39m_buffer)\n\u001b[1;32m   1090\u001b[0m \u001b[38;5;28;01mdel\u001b[39;00m \u001b[38;5;28mself\u001b[39m\u001b[38;5;241m.\u001b[39m_buffer[:]\n\u001b[0;32m-> 1091\u001b[0m \u001b[38;5;28;43mself\u001b[39;49m\u001b[38;5;241;43m.\u001b[39;49m\u001b[43msend\u001b[49m\u001b[43m(\u001b[49m\u001b[43mmsg\u001b[49m\u001b[43m)\u001b[49m\n\u001b[1;32m   1093\u001b[0m \u001b[38;5;28;01mif\u001b[39;00m message_body \u001b[38;5;129;01mis\u001b[39;00m \u001b[38;5;129;01mnot\u001b[39;00m \u001b[38;5;28;01mNone\u001b[39;00m:\n\u001b[1;32m   1094\u001b[0m \n\u001b[1;32m   1095\u001b[0m     \u001b[38;5;66;03m# create a consistent interface to message_body\u001b[39;00m\n\u001b[1;32m   1096\u001b[0m     \u001b[38;5;28;01mif\u001b[39;00m \u001b[38;5;28mhasattr\u001b[39m(message_body, \u001b[38;5;124m'\u001b[39m\u001b[38;5;124mread\u001b[39m\u001b[38;5;124m'\u001b[39m):\n\u001b[1;32m   1097\u001b[0m         \u001b[38;5;66;03m# Let file-like take precedence over byte-like.  This\u001b[39;00m\n\u001b[1;32m   1098\u001b[0m         \u001b[38;5;66;03m# is needed to allow the current position of mmap'ed\u001b[39;00m\n\u001b[1;32m   1099\u001b[0m         \u001b[38;5;66;03m# files to be taken into account.\u001b[39;00m\n",
      "File \u001b[0;32m/Library/Frameworks/Python.framework/Versions/3.12/lib/python3.12/http/client.py:1035\u001b[0m, in \u001b[0;36mHTTPConnection.send\u001b[0;34m(self, data)\u001b[0m\n\u001b[1;32m   1033\u001b[0m \u001b[38;5;28;01mif\u001b[39;00m \u001b[38;5;28mself\u001b[39m\u001b[38;5;241m.\u001b[39msock \u001b[38;5;129;01mis\u001b[39;00m \u001b[38;5;28;01mNone\u001b[39;00m:\n\u001b[1;32m   1034\u001b[0m     \u001b[38;5;28;01mif\u001b[39;00m \u001b[38;5;28mself\u001b[39m\u001b[38;5;241m.\u001b[39mauto_open:\n\u001b[0;32m-> 1035\u001b[0m         \u001b[38;5;28;43mself\u001b[39;49m\u001b[38;5;241;43m.\u001b[39;49m\u001b[43mconnect\u001b[49m\u001b[43m(\u001b[49m\u001b[43m)\u001b[49m\n\u001b[1;32m   1036\u001b[0m     \u001b[38;5;28;01melse\u001b[39;00m:\n\u001b[1;32m   1037\u001b[0m         \u001b[38;5;28;01mraise\u001b[39;00m NotConnected()\n",
      "File \u001b[0;32m/Library/Frameworks/Python.framework/Versions/3.12/lib/python3.12/http/client.py:1477\u001b[0m, in \u001b[0;36mHTTPSConnection.connect\u001b[0;34m(self)\u001b[0m\n\u001b[1;32m   1474\u001b[0m \u001b[38;5;28;01melse\u001b[39;00m:\n\u001b[1;32m   1475\u001b[0m     server_hostname \u001b[38;5;241m=\u001b[39m \u001b[38;5;28mself\u001b[39m\u001b[38;5;241m.\u001b[39mhost\n\u001b[0;32m-> 1477\u001b[0m \u001b[38;5;28mself\u001b[39m\u001b[38;5;241m.\u001b[39msock \u001b[38;5;241m=\u001b[39m \u001b[38;5;28;43mself\u001b[39;49m\u001b[38;5;241;43m.\u001b[39;49m\u001b[43m_context\u001b[49m\u001b[38;5;241;43m.\u001b[39;49m\u001b[43mwrap_socket\u001b[49m\u001b[43m(\u001b[49m\u001b[38;5;28;43mself\u001b[39;49m\u001b[38;5;241;43m.\u001b[39;49m\u001b[43msock\u001b[49m\u001b[43m,\u001b[49m\n\u001b[1;32m   1478\u001b[0m \u001b[43m                                      \u001b[49m\u001b[43mserver_hostname\u001b[49m\u001b[38;5;241;43m=\u001b[39;49m\u001b[43mserver_hostname\u001b[49m\u001b[43m)\u001b[49m\n",
      "File \u001b[0;32m/Library/Frameworks/Python.framework/Versions/3.12/lib/python3.12/ssl.py:455\u001b[0m, in \u001b[0;36mSSLContext.wrap_socket\u001b[0;34m(self, sock, server_side, do_handshake_on_connect, suppress_ragged_eofs, server_hostname, session)\u001b[0m\n\u001b[1;32m    449\u001b[0m \u001b[38;5;28;01mdef\u001b[39;00m \u001b[38;5;21mwrap_socket\u001b[39m(\u001b[38;5;28mself\u001b[39m, sock, server_side\u001b[38;5;241m=\u001b[39m\u001b[38;5;28;01mFalse\u001b[39;00m,\n\u001b[1;32m    450\u001b[0m                 do_handshake_on_connect\u001b[38;5;241m=\u001b[39m\u001b[38;5;28;01mTrue\u001b[39;00m,\n\u001b[1;32m    451\u001b[0m                 suppress_ragged_eofs\u001b[38;5;241m=\u001b[39m\u001b[38;5;28;01mTrue\u001b[39;00m,\n\u001b[1;32m    452\u001b[0m                 server_hostname\u001b[38;5;241m=\u001b[39m\u001b[38;5;28;01mNone\u001b[39;00m, session\u001b[38;5;241m=\u001b[39m\u001b[38;5;28;01mNone\u001b[39;00m):\n\u001b[1;32m    453\u001b[0m     \u001b[38;5;66;03m# SSLSocket class handles server_hostname encoding before it calls\u001b[39;00m\n\u001b[1;32m    454\u001b[0m     \u001b[38;5;66;03m# ctx._wrap_socket()\u001b[39;00m\n\u001b[0;32m--> 455\u001b[0m     \u001b[38;5;28;01mreturn\u001b[39;00m \u001b[38;5;28;43mself\u001b[39;49m\u001b[38;5;241;43m.\u001b[39;49m\u001b[43msslsocket_class\u001b[49m\u001b[38;5;241;43m.\u001b[39;49m\u001b[43m_create\u001b[49m\u001b[43m(\u001b[49m\n\u001b[1;32m    456\u001b[0m \u001b[43m        \u001b[49m\u001b[43msock\u001b[49m\u001b[38;5;241;43m=\u001b[39;49m\u001b[43msock\u001b[49m\u001b[43m,\u001b[49m\n\u001b[1;32m    457\u001b[0m \u001b[43m        \u001b[49m\u001b[43mserver_side\u001b[49m\u001b[38;5;241;43m=\u001b[39;49m\u001b[43mserver_side\u001b[49m\u001b[43m,\u001b[49m\n\u001b[1;32m    458\u001b[0m \u001b[43m        \u001b[49m\u001b[43mdo_handshake_on_connect\u001b[49m\u001b[38;5;241;43m=\u001b[39;49m\u001b[43mdo_handshake_on_connect\u001b[49m\u001b[43m,\u001b[49m\n\u001b[1;32m    459\u001b[0m \u001b[43m        \u001b[49m\u001b[43msuppress_ragged_eofs\u001b[49m\u001b[38;5;241;43m=\u001b[39;49m\u001b[43msuppress_ragged_eofs\u001b[49m\u001b[43m,\u001b[49m\n\u001b[1;32m    460\u001b[0m \u001b[43m        \u001b[49m\u001b[43mserver_hostname\u001b[49m\u001b[38;5;241;43m=\u001b[39;49m\u001b[43mserver_hostname\u001b[49m\u001b[43m,\u001b[49m\n\u001b[1;32m    461\u001b[0m \u001b[43m        \u001b[49m\u001b[43mcontext\u001b[49m\u001b[38;5;241;43m=\u001b[39;49m\u001b[38;5;28;43mself\u001b[39;49m\u001b[43m,\u001b[49m\n\u001b[1;32m    462\u001b[0m \u001b[43m        \u001b[49m\u001b[43msession\u001b[49m\u001b[38;5;241;43m=\u001b[39;49m\u001b[43msession\u001b[49m\n\u001b[1;32m    463\u001b[0m \u001b[43m    \u001b[49m\u001b[43m)\u001b[49m\n",
      "File \u001b[0;32m/Library/Frameworks/Python.framework/Versions/3.12/lib/python3.12/ssl.py:1042\u001b[0m, in \u001b[0;36mSSLSocket._create\u001b[0;34m(cls, sock, server_side, do_handshake_on_connect, suppress_ragged_eofs, server_hostname, context, session)\u001b[0m\n\u001b[1;32m   1039\u001b[0m             \u001b[38;5;28;01mif\u001b[39;00m timeout \u001b[38;5;241m==\u001b[39m \u001b[38;5;241m0.0\u001b[39m:\n\u001b[1;32m   1040\u001b[0m                 \u001b[38;5;66;03m# non-blocking\u001b[39;00m\n\u001b[1;32m   1041\u001b[0m                 \u001b[38;5;28;01mraise\u001b[39;00m \u001b[38;5;167;01mValueError\u001b[39;00m(\u001b[38;5;124m\"\u001b[39m\u001b[38;5;124mdo_handshake_on_connect should not be specified for non-blocking sockets\u001b[39m\u001b[38;5;124m\"\u001b[39m)\n\u001b[0;32m-> 1042\u001b[0m             \u001b[38;5;28;43mself\u001b[39;49m\u001b[38;5;241;43m.\u001b[39;49m\u001b[43mdo_handshake\u001b[49m\u001b[43m(\u001b[49m\u001b[43m)\u001b[49m\n\u001b[1;32m   1043\u001b[0m \u001b[38;5;28;01mexcept\u001b[39;00m:\n\u001b[1;32m   1044\u001b[0m     \u001b[38;5;28;01mtry\u001b[39;00m:\n",
      "File \u001b[0;32m/Library/Frameworks/Python.framework/Versions/3.12/lib/python3.12/ssl.py:1320\u001b[0m, in \u001b[0;36mSSLSocket.do_handshake\u001b[0;34m(self, block)\u001b[0m\n\u001b[1;32m   1318\u001b[0m     \u001b[38;5;28;01mif\u001b[39;00m timeout \u001b[38;5;241m==\u001b[39m \u001b[38;5;241m0.0\u001b[39m \u001b[38;5;129;01mand\u001b[39;00m block:\n\u001b[1;32m   1319\u001b[0m         \u001b[38;5;28mself\u001b[39m\u001b[38;5;241m.\u001b[39msettimeout(\u001b[38;5;28;01mNone\u001b[39;00m)\n\u001b[0;32m-> 1320\u001b[0m     \u001b[38;5;28;43mself\u001b[39;49m\u001b[38;5;241;43m.\u001b[39;49m\u001b[43m_sslobj\u001b[49m\u001b[38;5;241;43m.\u001b[39;49m\u001b[43mdo_handshake\u001b[49m\u001b[43m(\u001b[49m\u001b[43m)\u001b[49m\n\u001b[1;32m   1321\u001b[0m \u001b[38;5;28;01mfinally\u001b[39;00m:\n\u001b[1;32m   1322\u001b[0m     \u001b[38;5;28mself\u001b[39m\u001b[38;5;241m.\u001b[39msettimeout(timeout)\n",
      "\u001b[0;31mSSLCertVerificationError\u001b[0m: [SSL: CERTIFICATE_VERIFY_FAILED] certificate verify failed: unable to get local issuer certificate (_ssl.c:1000)"
     ]
    }
   ],
   "source": [
    "import json\n",
    "from datetime import datetime\n",
    "import http.client\n",
    "import dateutil.parser\n",
    "\n",
    "def get_team_fixtures(team_id):\n",
    "    conn = http.client.HTTPSConnection(\"api-football-v1.p.rapidapi.com\")\n",
    "\n",
    "    headers = {\n",
    "        'X-RapidAPI-Key': \"d2e9c50e71msh9c1aa43d831af5cp1b4350jsnd108d9d34ba6\",\n",
    "        'X-RapidAPI-Host': \"api-football-v1.p.rapidapi.com\"\n",
    "    }\n",
    "\n",
    "    conn.request(\"GET\", f\"/v2/fixtures/team/{team_id}/5858?timezone=Europe/Amsterdam\", headers=headers)\n",
    "\n",
    "    res = conn.getresponse()\n",
    "    data = res.read()\n",
    "\n",
    "    data_str = data.decode(\"utf-8\")\n",
    "\n",
    "    data_json = json.loads(data_str)\n",
    "\n",
    "    fixtures = data_json.get('api', {}).get('fixtures', [])\n",
    "\n",
    "    team_fixtures = []\n",
    "\n",
    "    for fixture in fixtures:\n",
    "        home_team = fixture['homeTeam']['team_name']\n",
    "        away_team = fixture['awayTeam']['team_name']\n",
    "        event_date = fixture['event_date']\n",
    "        \n",
    "        event_date_parsed = dateutil.parser.parse(event_date)\n",
    "        event_date_formatted = event_date_parsed.strftime(\"%d %B %H:%M\")\n",
    "        \n",
    "        if fixture['homeTeam']['team_id'] == team_id:\n",
    "            opponent = away_team\n",
    "            team_name = home_team\n",
    "        elif fixture['awayTeam']['team_id'] == team_id:\n",
    "            opponent = home_team\n",
    "            team_name = away_team\n",
    "        else:\n",
    "            continue\n",
    "\n",
    "        team_fixtures.append(f\"{team_name} plays {opponent} on the {event_date_formatted}\")\n",
    "\n",
    "    return team_fixtures\n",
    "\n",
    "\n",
    "# Example usage\n",
    "fixtures = get_team_fixtures(2)\n",
    "for fixture in fixtures:\n",
    "    print(fixture)"
   ]
  }
 ],
 "metadata": {
  "kernelspec": {
   "display_name": "PythonAI",
   "language": "python",
   "name": "python3"
  },
  "language_info": {
   "codemirror_mode": {
    "name": "ipython",
    "version": 3
   },
   "file_extension": ".py",
   "mimetype": "text/x-python",
   "name": "python",
   "nbconvert_exporter": "python",
   "pygments_lexer": "ipython3",
   "version": "3.1.-1"
  }
 },
 "nbformat": 4,
 "nbformat_minor": 2
}
